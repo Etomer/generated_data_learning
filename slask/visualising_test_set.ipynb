{
 "cells": [
  {
   "cell_type": "code",
   "execution_count": 83,
   "metadata": {},
   "outputs": [],
   "source": [
    "import os\n",
    "# os.chdir(os.path.dirname(os.path.abspath(__file__)))\n",
    "import numpy as np\n",
    "import matplotlib.pyplot as plt\n",
    "import glob\n",
    "import pickle\n",
    "import torch\n"
   ]
  },
  {
   "cell_type": "code",
   "execution_count": 84,
   "metadata": {},
   "outputs": [],
   "source": [
    "inliers = pickle.load(open(\"../processed_data/test_set/inliers.pkl\", \"rb\"))\n",
    "problems = pickle.load(open(\"../processed_data/test_set/problems.pkl\", \"rb\"))\n",
    "positions = pickle.load(open(\"../processed_data/test_set/positions.pkl\", \"rb\"))\n"
   ]
  },
  {
   "cell_type": "markdown",
   "metadata": {},
   "source": [
    "# \"Measurement noise\" - i.e. Residual between ground_truth computed tdoa and measurements "
   ]
  },
  {
   "cell_type": "code",
   "execution_count": 119,
   "metadata": {},
   "outputs": [
    {
     "name": "stdout",
     "output_type": "stream",
     "text": [
      "inlier_ration = 0.72, (|res| < 0.2 m)\n",
      "noise_std = 0.12, (|res| < 0.4 m)\n"
     ]
    },
    {
     "data": {
      "image/png": "[encoded data removed]",
      "text/plain": [
       "<Figure size 432x288 with 1 Axes>"
      ]
     },
     "metadata": {
      "needs_background": "light"
     },
     "output_type": "display_data"
    }
   ],
   "source": [
    "sender_size = problems[0].shape[1]\n",
    "mic_pairs = zip(*np.tril_indices(12, k=-1))\n",
    "prob = 0\n",
    "gt_tdoa = np.zeros((66, sender_size))\n",
    "for indx, (i, j) in enumerate(mic_pairs):\n",
    "    d1 = np.linalg.norm(positions[prob][\"speaker\"] -\n",
    "                        positions[prob][\"mics\"][i], axis=1)\n",
    "    d2 = np.linalg.norm(positions[prob][\"speaker\"] -\n",
    "                        (positions[prob][\"mics\"][j]), axis=1)\n",
    "    gt_tdoa[indx] = d1 - d2\n",
    "# plt.hist(d1 - d2)\n",
    "# d1.shape\n",
    "# plt.hist(gt_tdoa.flatten())\n",
    "res = (gt_tdoa - problems[prob]*343/96e3).flatten()\n",
    "plt.hist(res[np.abs(res) < 1], 60)\n",
    "plt.xlabel(\"residual (meters)\")\n",
    "inl_ratio = np.sum(np.abs(res) < 0.2)/np.size(res)\n",
    "noise_std = np.std(res[np.abs(res) < 0.4])\n",
    "print(f'inlier_ration = {inl_ratio:.2f}, (|res| < 0.2 m)')\n",
    "print(f'noise_std = {noise_std:.2f}, (|res| < 0.4 m)')\n"
   ]
  },
  {
   "cell_type": "code",
   "execution_count": null,
   "metadata": {},
   "outputs": [],
   "source": []
  },
  {
   "cell_type": "markdown",
   "metadata": {},
   "source": [
    "# room size"
   ]
  },
  {
   "cell_type": "code",
   "execution_count": 108,
   "metadata": {},
   "outputs": [
    {
     "name": "stdout",
     "output_type": "stream",
     "text": [
      "tensor([2.8930, 3.5974, 0.2058], dtype=torch.float64)\n",
      "tensor([-0.0111, -0.8671, -4.4453], dtype=torch.float64)\n"
     ]
    },
    {
     "data": {
      "text/plain": [
       "tensor([2.9225, 1.1236, 0.5446], dtype=torch.float64)"
      ]
     },
     "execution_count": 108,
     "metadata": {},
     "output_type": "execute_result"
    }
   ],
   "source": [
    "coord = torch.cat([torch.cat([p[\"speaker\"] for p in positions]), torch.cat(\n",
    "    [p[\"mics\"] for p in positions])])  # coordinates of all speakers and mics\n",
    "\n",
    "print(coord.max(dim=0)[0])\n",
    "print(coord.min(dim=0)[0])\n",
    "\n",
    "u, s, v = torch.svd(coord)\n",
    "\n",
    "s/np.sqrt(coord.shape[0])\n"
   ]
  },
  {
   "cell_type": "code",
   "execution_count": 121,
   "metadata": {},
   "outputs": [
    {
     "data": {
      "text/plain": [
       "<matplotlib.image.AxesImage at 0x15a29fe20>"
      ]
     },
     "execution_count": 121,
     "metadata": {},
     "output_type": "execute_result"
    },
    {
     "data": {
      "image/png": "[encoded data removed]",
      "text/plain": [
       "<Figure size 432x288 with 1 Axes>"
      ]
     },
     "metadata": {
      "needs_background": "light"
     },
     "output_type": "display_data"
    }
   ],
   "source": [
    "plt.imshow(inliers[0])\n"
   ]
  },
  {
   "cell_type": "code",
   "execution_count": null,
   "metadata": {},
   "outputs": [],
   "source": []
  }
 ],
 "metadata": {
  "kernelspec": {
   "display_name": "base",
   "language": "python",
   "name": "python3"
  },
  "language_info": {
   "codemirror_mode": {
    "name": "ipython",
    "version": 3
   },
   "file_extension": ".py",
   "mimetype": "text/x-python",
   "name": "python",
   "nbconvert_exporter": "python",
   "pygments_lexer": "ipython3",
   "version": "3.9.16"
  },
  "orig_nbformat": 4
 },
 "nbformat": 4,
 "nbformat_minor": 2
}
