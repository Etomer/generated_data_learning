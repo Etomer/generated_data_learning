{
 "cells": [
  {
   "cell_type": "code",
   "execution_count": 91,
   "metadata": {},
   "outputs": [],
   "source": [
    "import os\n",
    "# os.chdir(os.path.dirname(os.path.abspath(__file__)))\n",
    "import numpy as np\n",
    "import matplotlib.pyplot as plt\n",
    "import glob\n",
    "import pickle\n"
   ]
  },
  {
   "cell_type": "code",
   "execution_count": 102,
   "metadata": {},
   "outputs": [],
   "source": [
    "music_dets_paths = [i for i in glob.glob(\n",
    "    \"../processed_data/detections/*\") if not \"_gt\" in i and \"music\" in i and not \"music_0013\" in i]\n",
    "music_gt_paths = [i + \"_gt\" for i in music_dets_paths]\n",
    "music_gt_positions_paths = [\n",
    "    i + \"_gt_positions\" for i in music_dets_paths]\n"
   ]
  },
  {
   "cell_type": "code",
   "execution_count": 106,
   "metadata": {},
   "outputs": [],
   "source": [
    "a = pickle.load(open(music_gt_positions_paths[0], \"rb\"))\n"
   ]
  },
  {
   "cell_type": "code",
   "execution_count": 107,
   "metadata": {},
   "outputs": [],
   "source": [
    "sender_size = 20\n",
    "\n",
    "probs = []\n",
    "inliers = []\n",
    "\n",
    "for j in range(len(music_dets_paths)):\n",
    "    dets = pickle.load(open(music_dets_paths[j], \"rb\"))\n",
    "    gt = pickle.load(open(music_gt_paths[j], \"rb\"))\n",
    "    gt_positions = pickle.load(open(music_gt_positions_paths[j], \"rb\"))\n",
    "    # gt = np.load(music_gt_paths[j])\n",
    "    # gt_positions = np.load(music_gt_positions_paths[j])\n",
    "\n",
    "    n = dets.shape[2] // sender_size\n",
    "    indx = np.random.permutation(dets.shape[2])[\n",
    "        :(n * sender_size)].reshape((20, n))\n",
    "    for i in range(n):\n",
    "        temp = dets[:, :, indx[:, i]][np.tril_indices(dets.shape[0], k=-1)]\n",
    "        temp2 = gt[:, :, indx[:, i]][np.tril_indices(dets.shape[0], k=-1)]\n",
    "        # inlier if within of two dm ~= 60 samples\n",
    "        inl = np.abs(temp - temp2) < 60\n",
    "        probs.append(temp)\n",
    "        inliers.append(inl)\n",
    "\n",
    "problems = np.stack(probs, axis=0)\n",
    "inlers = np.stack(inliers, axis=0)\n"
   ]
  },
  {
   "cell_type": "code",
   "execution_count": 86,
   "metadata": {},
   "outputs": [
    {
     "data": {
      "text/plain": [
       "<matplotlib.image.AxesImage at 0x1309b2850>"
      ]
     },
     "execution_count": 86,
     "metadata": {},
     "output_type": "execute_result"
    },
    {
     "data": {
      "image/png": "[encoded data removed]",
      "text/plain": [
       "<Figure size 432x288 with 1 Axes>"
      ]
     },
     "metadata": {
      "needs_background": "light"
     },
     "output_type": "display_data"
    }
   ],
   "source": [
    "plt.imshow(inliers[5])\n"
   ]
  }
 ],
 "metadata": {
  "kernelspec": {
   "display_name": "base",
   "language": "python",
   "name": "python3"
  },
  "language_info": {
   "codemirror_mode": {
    "name": "ipython",
    "version": 3
   },
   "file_extension": ".py",
   "mimetype": "text/x-python",
   "name": "python",
   "nbconvert_exporter": "python",
   "pygments_lexer": "ipython3",
   "version": "3.9.16"
  },
  "orig_nbformat": 4
 },
 "nbformat": 4,
 "nbformat_minor": 2
}
